{
 "cells": [
  {
   "cell_type": "markdown",
   "metadata": {
    "id": "NBvyYNkEz8jT"
   },
   "source": [
    "Montar drive"
   ]
  },
  {
   "cell_type": "code",
   "execution_count": null,
   "metadata": {
    "colab": {
     "base_uri": "https://localhost:8080/"
    },
    "id": "ba1H0UkJyj1L",
    "outputId": "3ef33286-81b3-4fd3-f00a-0c6a1a73cb5c"
   },
   "outputs": [],
   "source": [
    "#from google.colab import drive \n",
    "#drive.mount('/content/drive/')"
   ]
  },
  {
   "cell_type": "markdown",
   "metadata": {
    "id": "T2WaPREj0A7u"
   },
   "source": [
    "Declarar los flags una única vez \n",
    "\n",
    "\n",
    "> (se comenta esta parte en todos los .py)\n",
    "\n"
   ]
  },
  {
   "cell_type": "code",
   "execution_count": null,
   "metadata": {
    "colab": {
     "base_uri": "https://localhost:8080/"
    },
    "id": "5H-Rfn6hq4fW",
    "outputId": "d65c99c4-a6db-4169-9bf8-e6376b5360a7"
   },
   "outputs": [],
   "source": [
    "from absl import app, flags, logging\n",
    "from absl.flags import FLAGS\n",
    "flags.DEFINE_string('classes', './Proyecto/data/mask.names', 'path to classes file')\n",
    "flags.DEFINE_string('weights', './checkpoints/yolov3.tf',\n",
    "                    'path to weights file')\n",
    "flags.DEFINE_boolean('tiny', False, 'yolov3 or yolov3-tiny')\n",
    "flags.DEFINE_integer('size', 416, 'resize images to')\n",
    "flags.DEFINE_string('image', './data/girl.png', 'path to input image')\n",
    "flags.DEFINE_string('tfrecord', None, 'tfrecord instead of image')\n",
    "flags.DEFINE_string('output', './output.jpg', 'path to output image')\n",
    "flags.DEFINE_integer('num_classes', 80, 'number of classes in the model')\n",
    "flags.DEFINE_string('output_format', 'DIVX', 'codec used in VideoWriter when saving video to file')\n",
    "flags.DEFINE_string('video', './data/video.mp4',\n",
    "                    'path to video file or number for webcam)')\n",
    "flags.DEFINE_string('dataset', '', 'path to dataset')\n",
    "flags.DEFINE_string('val_dataset', '', 'path to validation dataset')\n",
    "\n",
    "\n",
    "flags.DEFINE_enum('mode', 'fit', ['fit', 'eager_fit', 'eager_tf'],\n",
    "                  'fit: model.fit, '\n",
    "                  'eager_fit: model.fit(run_eagerly=True), '\n",
    "                  'eager_tf: custom GradientTape')\n",
    "flags.DEFINE_enum('transfer', 'none',\n",
    "                  ['none', 'darknet', 'no_output', 'frozen', 'fine_tune'],\n",
    "                  'none: Training from scratch, '\n",
    "                  'darknet: Transfer darknet, '\n",
    "                  'no_output: Transfer all but output, '\n",
    "                  'frozen: Transfer and freeze all, '\n",
    "                  'fine_tune: Transfer all and freeze darknet only')\n",
    "flags.DEFINE_integer('epochs', 2, 'number of epochs')\n",
    "flags.DEFINE_integer('batch_size', 8, 'batch size')\n",
    "flags.DEFINE_float('learning_rate', 1e-3, 'learning rate')\n",
    "flags.DEFINE_integer('weights_num_classes', None, 'specify num class for `weights` file if different, '\n",
    "                     'useful in transfer learning with different number of classes')\n",
    "flags.DEFINE_enum('split', 'train', [\n",
    "                  'train', 'val'], 'specify train or val spit')\n",
    "flags.DEFINE_string('data_dir', './Proyecto/',\n",
    "                    'path to raw PASCAL VOC dataset')\n",
    "flags.DEFINE_string('output_file', './Proyecto/tfrecord/train.tfrecord', 'outpot dataset')\n",
    "flags.DEFINE_string('folder', './Proyecto/test/', 'folder')\n",
    "flags.DEFINE_string('output_folder', './Proyecto/output/', 'output folder')\n"
   ]
  },
  {
   "cell_type": "markdown",
   "metadata": {
    "id": "MYJKTJf40UEo"
   },
   "source": [
    "Instalar requirements"
   ]
  },
  {
   "cell_type": "code",
   "execution_count": null,
   "metadata": {
    "id": "vgm2BVZ5y4YE"
   },
   "outputs": [],
   "source": [
    "%cd drive/MyDrive/ProyectoFinal/yolov3-tf2-master/\n",
    "!pip install -r requirements-gpu.txt"
   ]
  },
  {
   "cell_type": "markdown",
   "metadata": {
    "id": "Yvz9YM6a0be6"
   },
   "source": [
    "Verificar versión de tensorflow"
   ]
  },
  {
   "cell_type": "code",
   "execution_count": null,
   "metadata": {
    "id": "1OJzVBsL0v1W"
   },
   "outputs": [],
   "source": [
    "import tensorflow as tf\n",
    "tf.__version__"
   ]
  },
  {
   "cell_type": "markdown",
   "metadata": {
    "id": "nIWsFBDr0fwv"
   },
   "source": [
    "Obtener pesos"
   ]
  },
  {
   "cell_type": "code",
   "execution_count": null,
   "metadata": {
    "id": "j2MUhqo903ze"
   },
   "outputs": [],
   "source": [
    "#!wget https://pjreddie.com/media/files/yolov3.weights -O data/yolov3.weights\n",
    "!python convert.py"
   ]
  },
  {
   "cell_type": "code",
   "execution_count": null,
   "metadata": {
    "colab": {
     "base_uri": "https://localhost:8080/"
    },
    "id": "dG-bjzEwrDTh",
    "outputId": "cd8e6d2c-1dbe-4eb2-a3b8-7fe72443932f"
   },
   "outputs": [],
   "source": [
    "#Navegar a la carpeta del proyecto\n",
    "#%cd drive/MyDrive/ProyectoFinal/"
   ]
  },
  {
   "cell_type": "code",
   "execution_count": null,
   "metadata": {
    "colab": {
     "base_uri": "https://localhost:8080/"
    },
    "id": "c6iPJIAd1XwH",
    "outputId": "0326ce81-277e-4645-ed59-bd588d64768e"
   },
   "outputs": [],
   "source": [
    "#%ls"
   ]
  },
  {
   "cell_type": "markdown",
   "metadata": {
    "id": "LIl2MLzMTYJW"
   },
   "source": [
    "# Crear Tfrecord para train y test"
   ]
  },
  {
   "cell_type": "code",
   "execution_count": null,
   "metadata": {
    "colab": {
     "base_uri": "https://localhost:8080/"
    },
    "id": "JjTsXOeckQ79",
    "outputId": "fdf0edc9-1dc3-4335-96e2-bee94d8437cd"
   },
   "outputs": [],
   "source": [
    "%run yolov3-tf2-master/tools/voc2012.py --data_dir ./Proyecto --split train --output_file=./Proyecto/tfrecord/train.tfrecord --classes=./Proyecto/data/mask.names"
   ]
  },
  {
   "cell_type": "code",
   "execution_count": null,
   "metadata": {
    "colab": {
     "base_uri": "https://localhost:8080/"
    },
    "id": "sN-qTTnSpv6R",
    "outputId": "137a1df5-d7b0-4767-9d89-a6b746f8a6bf"
   },
   "outputs": [],
   "source": [
    "%run yolov3-tf2-master/tools/voc2012.py --data_dir ./Proyecto --split val --output_file=./Proyecto/tfrecord/val.tfrecord --classes=./Proyecto/data/mask.names"
   ]
  },
  {
   "cell_type": "markdown",
   "metadata": {
    "id": "xfX-xTD5TYmN"
   },
   "source": [
    "# Entrenamiento"
   ]
  },
  {
   "cell_type": "code",
   "execution_count": null,
   "metadata": {
    "colab": {
     "base_uri": "https://localhost:8080/"
    },
    "id": "3MU6Sad11WEm",
    "outputId": "6cee070f-6996-4b3a-a521-d4334fd8841a"
   },
   "outputs": [],
   "source": [
    "%run yolov3-tf2-master/train.py \\\n",
    "\t--dataset ./Proyecto/tfrecord/train.tfrecord \\\n",
    "\t--val_dataset ./Proyecto/tfrecord/val.tfrecord \\\n",
    "\t--classes ./Proyecto/data/mask.names \\\n",
    "\t--num_classes 2 \\\n",
    "\t--mode fit --transfer darknet \\\n",
    "\t--batch_size 16 \\\n",
    "\t--epochs 85 \\\n",
    "  --weights_num_classes=80 "
   ]
  },
  {
   "cell_type": "markdown",
   "metadata": {
    "id": "0SQgDZqg1AG7"
   },
   "source": [
    "# Validación"
   ]
  },
  {
   "cell_type": "code",
   "execution_count": null,
   "metadata": {
    "colab": {
     "base_uri": "https://localhost:8080/"
    },
    "id": "ujmYzr44s6Ya",
    "outputId": "6d37922a-bfbe-450a-d42e-51547281011c"
   },
   "outputs": [],
   "source": [
    "%run yolov3-tf2-master/detect.py \\\n",
    "\t--classes ./Proyecto/data/mask.names \\\n",
    "\t--num_classes 2 \\\n",
    "\t--weights ./checkpoints/yolov3_train_16.tf \\\n",
    "\t--tfrecord ./Proyecto/tfrecord/val.tfrecord"
   ]
  },
  {
   "cell_type": "code",
   "execution_count": null,
   "metadata": {
    "colab": {
     "base_uri": "https://localhost:8080/"
    },
    "id": "zDqmkScBxH4T",
    "outputId": "70e97666-7c31-4e34-e8a1-3204dde927d2"
   },
   "outputs": [],
   "source": [
    "%run yolov3-tf2-master/detect.py  \\\n",
    "  --classes ./Proyecto/data/mask.names \\\n",
    "  --image ./test_images/test5.jpg \\\n",
    "  --output ./test_images/test5-v.jpg \\\n",
    "  --weights ./checkpoints/yolov3_train_16.tf \\\n",
    "  --num_classes 2"
   ]
  },
  {
   "cell_type": "code",
   "execution_count": null,
   "metadata": {
    "colab": {
     "base_uri": "https://localhost:8080/",
     "height": 460
    },
    "id": "K2maaXPauo1Y",
    "outputId": "de2d78a7-c3cc-4273-f2c7-d9f65c752715"
   },
   "outputs": [],
   "source": [
    "%run yolov3-tf2-master/detect_video.py  \\\n",
    "  --classes ./Proyecto/data/mask.names \\\n",
    "  #--video 0 \\\n",
    "  --video ./valvideo3.mp4 \\\n",
    "  --output ./Proyecto/videorec3.avi \\\n",
    "  --weights ./checkpoints/yolov3_train_16.tf \\\n",
    "  --num_classes 2"
   ]
  },
  {
   "cell_type": "code",
   "execution_count": null,
   "metadata": {},
   "outputs": [],
   "source": [
    "%run yolov3-tf2-master/detect_folder.py  \\\n",
    "  --classes ./Proyecto/data/mask.names \\\n",
    "  --weights ./checkpoints/yolov3_train_85.tf \\\n",
    "  --folder /Users/macbookpro/ml-env/ProyectoFinal/test/ \\\n",
    "  --output_folder /Users/macbookpro/ml-env/ProyectoFinal/output/ \\\n",
    "  --num_classes 2"
   ]
  },
  {
   "cell_type": "code",
   "execution_count": null,
   "metadata": {
    "id": "skG8vTc4oKWR"
   },
   "outputs": [],
   "source": [
    "%run yolov3-tf2-master/detect.py  \\\n",
    "  --classes ./Proyecto/data/mask.names \\\n",
    "  --image ./Proyecto/JPEGImages/nomask/66000_Mask.jpg \\\n",
    "  --output ./Proyecto/output_66000_Mask.jpg \\\n",
    "  --weights ./checkpoints/yolov3_train_19.tf \\\n",
    "  --num_classes 2"
   ]
  }
 ],
 "metadata": {
  "accelerator": "GPU",
  "colab": {
   "name": "MaskDetection.pynb",
   "provenance": [],
   "toc_visible": true
  },
  "kernelspec": {
   "display_name": "Python 3",
   "language": "python",
   "name": "python3"
  },
  "language_info": {
   "codemirror_mode": {
    "name": "ipython",
    "version": 3
   },
   "file_extension": ".py",
   "mimetype": "text/x-python",
   "name": "python",
   "nbconvert_exporter": "python",
   "pygments_lexer": "ipython3",
   "version": "3.6.8"
  }
 },
 "nbformat": 4,
 "nbformat_minor": 1
}
